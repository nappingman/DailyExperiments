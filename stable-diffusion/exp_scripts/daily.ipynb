{
 "cells": [
  {
   "cell_type": "code",
   "execution_count": 2,
   "metadata": {},
   "outputs": [],
   "source": [
    "import cv2"
   ]
  },
  {
   "cell_type": "code",
   "execution_count": 4,
   "metadata": {},
   "outputs": [
    {
     "data": {
      "text/plain": [
       "True"
      ]
     },
     "execution_count": 4,
     "metadata": {},
     "output_type": "execute_result"
    }
   ],
   "source": [
    "img_path = \"/home/v-penxiao/workspace/DailyExperiments/stable-diffusion/data/inpainting_examples/overture-creations-5sI6fQgYIuo.png\"\n",
    "img = cv2.imread(img_path, 1)               # 在前面要加上文件夹的路径，1是将图片按照彩色图来读\n",
    "gray_img = cv2.cvtColor(img, cv2.COLOR_BGR2GRAY) \n",
    "cv2.imwrite(\"/home/v-penxiao/workspace/DailyExperiments/stable-diffusion/imagic_outputs/gray_demo.png\", gray_img)"
   ]
  },
  {
   "cell_type": "code",
   "execution_count": null,
   "metadata": {},
   "outputs": [],
   "source": []
  }
 ],
 "metadata": {
  "kernelspec": {
   "display_name": "ldm",
   "language": "python",
   "name": "python3"
  },
  "language_info": {
   "codemirror_mode": {
    "name": "ipython",
    "version": 3
   },
   "file_extension": ".py",
   "mimetype": "text/x-python",
   "name": "python",
   "nbconvert_exporter": "python",
   "pygments_lexer": "ipython3",
   "version": "3.8.5"
  },
  "orig_nbformat": 4,
  "vscode": {
   "interpreter": {
    "hash": "2284b64b7a38d4e06dbb5f84cc3277933c03c9b00bcd12a39d3717fb0a62a2d6"
   }
  }
 },
 "nbformat": 4,
 "nbformat_minor": 2
}
